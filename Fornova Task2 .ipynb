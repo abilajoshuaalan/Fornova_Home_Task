{
 "cells": [
  {
   "cell_type": "code",
   "execution_count": 96,
   "id": "3cb70690",
   "metadata": {},
   "outputs": [
    {
     "name": "stdout",
     "output_type": "stream",
     "text": [
      "90.0\n"
     ]
    }
   ],
   "source": [
    "# Load the JSON file and find the lowest price\n",
    "    \n",
    "with open(r\"C:\\Users\\Royak Kings\\Downloads\\Python-task.json\", 'r') as file:\n",
    "    data = json.load(file)\n",
    "\n",
    "\n",
    "# Assuming the relevant data is under 'assignment_results'\n",
    "assignment_results = data.get('assignment_results', [])\n",
    "\n",
    "# Initialize the lowest price\n",
    "lowest_price = float('inf')\n",
    "\n",
    "# Iterate over the assignment results to find the lowest price\n",
    "for result in assignment_results:\n",
    "    shown_prices = result.get('shown_price', {})\n",
    "    for price in shown_prices.values():\n",
    "        try:\n",
    "            price_value = float(price)\n",
    "            if price_value < lowest_price:\n",
    "                lowest_price = price_value\n",
    "        except ValueError:\n",
    "            # In case the price is not a valid float, ignore and continue\n",
    "            continue\n",
    "\n",
    "# Check if lowest price was found, otherwise set to None\n",
    "lowest_price = None if lowest_price == float('inf') else lowest_price\n",
    "\n",
    "print (lowest_price)\n"
   ]
  },
  {
   "cell_type": "code",
   "execution_count": 90,
   "id": "bf75795c",
   "metadata": {},
   "outputs": [
    {
     "name": "stdout",
     "output_type": "stream",
     "text": [
      "{'cheapest_room_type': 'King Studio Suite - Non Smoking', 'number_of_guests': 4, 'price': 90.0}\n"
     ]
    }
   ],
   "source": [
    "# find the cheapest price but also the corresponding room type and number of guests\n",
    "\n",
    "with open(r\"C:\\Users\\Royak Kings\\Downloads\\Python-task.json\", 'r') as file:\n",
    "    data = json.load(file)\n",
    "\n",
    "# Extracting the 'assignment_results'\n",
    "assignment_results = data.get('assignment_results', [])\n",
    "\n",
    "# Initialize the lowest price and corresponding details\n",
    "lowest_price = float('inf')\n",
    "cheapest_room_type = None\n",
    "number_of_guests = None\n",
    "\n",
    "# Iterate over the assignment results to find the lowest price and its details\n",
    "for result in assignment_results:\n",
    "    shown_prices = result.get('shown_price', {})\n",
    "    for room_type, price in shown_prices.items():\n",
    "        try:\n",
    "            price_value = float(price)\n",
    "            if price_value < lowest_price:\n",
    "                lowest_price = price_value\n",
    "                cheapest_room_type = room_type\n",
    "                number_of_guests = result.get('number_of_guests')\n",
    "        except ValueError:\n",
    "            # In case the price is not a valid float, ignore and continue\n",
    "            continue\n",
    "\n",
    "# Formatting the result\n",
    "lowest_price_details = {\n",
    "    \"cheapest_room_type\": cheapest_room_type,\n",
    "    \"number_of_guests\": number_of_guests,\n",
    "    \"price\": lowest_price if lowest_price != float('inf') else None\n",
    "}\n",
    "\n",
    "print (lowest_price_details)\n",
    "\n"
   ]
  },
  {
   "cell_type": "code",
   "execution_count": 97,
   "id": "c80c0c91",
   "metadata": {},
   "outputs": [
    {
     "name": "stdout",
     "output_type": "stream",
     "text": [
      "[{'room_type': 'King Studio Suite - Hearing Accessible/Non-Smoking', 'total_price': 131.76}, {'room_type': 'King Studio Suite - Non Smoking', 'total_price': 108.71000000000001}, {'room_type': 'King Room - Mobility/Hearing Accessible - Non-Smoking', 'total_price': 133.76}, {'room_type': 'Queen Suite with Two Queen Beds - Non-Smoking', 'total_price': 130.76}]\n"
     ]
    }
   ],
   "source": [
    "# Calculating and printing the total price (Net price + taxes) for all rooms along with the room type\n",
    "\n",
    "total_prices = []\n",
    "\n",
    "# Iterate over the assignment results to calculate total prices\n",
    "for result in assignment_results:\n",
    "    net_prices = result.get('net_price', {})\n",
    "    taxes = result.get('ext_data', {}).get('taxes', '{}')\n",
    "\n",
    "    # Parse taxes string to a dictionary\n",
    "    try:\n",
    "        taxes_dict = json.loads(taxes.replace(\"'\", \"\\\"\"))\n",
    "    except json.JSONDecodeError:\n",
    "        # In case of invalid JSON format in taxes, ignore taxes\n",
    "        taxes_dict = {}\n",
    "\n",
    "    # Sum up all taxes\n",
    "    total_tax = sum(float(value) for value in taxes_dict.values())\n",
    "\n",
    "    # Calculate total price for each room type\n",
    "    for room_type, net_price in net_prices.items():\n",
    "        try:\n",
    "            net_price_value = float(net_price)\n",
    "            total_price = net_price_value + total_tax\n",
    "            total_prices.append({\n",
    "                \"room_type\": room_type,\n",
    "                \"total_price\": total_price\n",
    "            })\n",
    "        except ValueError:\n",
    "            # If net price is not a valid float, ignore and continue\n",
    "            continue\n",
    "\n",
    "print (total_prices)\n",
    "\n"
   ]
  }
 ],
 "metadata": {
  "kernelspec": {
   "display_name": "Python 3 (ipykernel)",
   "language": "python",
   "name": "python3"
  },
  "language_info": {
   "codemirror_mode": {
    "name": "ipython",
    "version": 3
   },
   "file_extension": ".py",
   "mimetype": "text/x-python",
   "name": "python",
   "nbconvert_exporter": "python",
   "pygments_lexer": "ipython3",
   "version": "3.11.5"
  }
 },
 "nbformat": 4,
 "nbformat_minor": 5
}
